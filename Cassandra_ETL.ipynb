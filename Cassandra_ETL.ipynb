{
  "nbformat": 4,
  "nbformat_minor": 0,
  "metadata": {
    "kernelspec": {
      "display_name": "Python 3",
      "language": "python",
      "name": "python3"
    },
    "language_info": {
      "codemirror_mode": {
        "name": "ipython",
        "version": 3
      },
      "file_extension": ".py",
      "mimetype": "text/x-python",
      "name": "python",
      "nbconvert_exporter": "python",
      "pygments_lexer": "ipython3",
      "version": "3.6.3"
    },
    "colab": {
      "name": "Cassandra_ETL.ipynb",
      "provenance": []
    }
  },
  "cells": [
    {
      "cell_type": "markdown",
      "metadata": {
        "editable": true,
        "id": "Wuph1mvd_ZSN"
      },
      "source": [
        "# Part I. ETL Pipeline for Pre-Processing the Files"
      ]
    },
    {
      "cell_type": "markdown",
      "metadata": {
        "editable": true,
        "id": "TmkRK853_ZSR"
      },
      "source": [
        "#### Import Python packages "
      ]
    },
    {
      "cell_type": "code",
      "metadata": {
        "editable": true,
        "id": "5oEh2J_H_ZSS"
      },
      "source": [
        "# Import Python packages \n",
        "import pandas as pd\n",
        "import cassandra\n",
        "import re\n",
        "import os\n",
        "import glob\n",
        "import numpy as np\n",
        "import json\n",
        "import csv"
      ],
      "execution_count": null,
      "outputs": []
    },
    {
      "cell_type": "markdown",
      "metadata": {
        "editable": true,
        "id": "XYmlh629_ZST"
      },
      "source": [
        "#### Creating list of filepaths to process original event csv data files"
      ]
    },
    {
      "cell_type": "code",
      "metadata": {
        "editable": true,
        "id": "VyK5ulac_ZSV",
        "outputId": "9afba803-bc91-4bc2-9602-a7c6bfd2c890"
      },
      "source": [
        "# checking the current working directory\n",
        "print(os.getcwd())\n",
        "\n",
        "# Get the current folder and subfolder event data\n",
        "filepath = os.getcwd() + '/event_data'\n",
        "\n",
        "# Create a for loop to create a list of files and collect each filepath\n",
        "for root, dirs, files in os.walk(filepath):\n",
        "    \n",
        "# join the file path and roots with the subdirectories using glob\n",
        "    file_path_list = glob.glob(os.path.join(root,'*'))\n",
        "    #print(file_path_list)"
      ],
      "execution_count": null,
      "outputs": [
        {
          "output_type": "stream",
          "text": [
            "/home/workspace\n"
          ],
          "name": "stdout"
        }
      ]
    },
    {
      "cell_type": "markdown",
      "metadata": {
        "editable": true,
        "id": "uomLtNYK_ZSW"
      },
      "source": [
        "#### Processing the files to create the data file csv that will be used for Apache Casssandra tables"
      ]
    },
    {
      "cell_type": "code",
      "metadata": {
        "editable": true,
        "id": "gl6dfJQd_ZSX"
      },
      "source": [
        "# initiating an empty list of rows that will be generated from each file\n",
        "full_data_rows_list = [] \n",
        "    \n",
        "# for every filepath in the file path list \n",
        "for f in file_path_list:\n",
        "\n",
        "# reading csv file \n",
        "    with open(f, 'r', encoding = 'utf8', newline='') as csvfile: \n",
        "        # creating a csv reader object \n",
        "        csvreader = csv.reader(csvfile) \n",
        "        next(csvreader)\n",
        "        \n",
        " # extracting each data row one by one and append it        \n",
        "        for line in csvreader:\n",
        "            #print(line)\n",
        "            full_data_rows_list.append(line) \n",
        "            \n",
        "# creating a smaller event data csv file called event_datafile_full csv that will be used to insert data into the \\\n",
        "# Apache Cassandra tables\n",
        "csv.register_dialect('myDialect', quoting=csv.QUOTE_ALL, skipinitialspace=True)\n",
        "\n",
        "with open('event_datafile_new.csv', 'w', encoding = 'utf8', newline='') as f:\n",
        "    writer = csv.writer(f, dialect='myDialect')\n",
        "    writer.writerow(['artist','firstName','gender','itemInSession','lastName','length',\\\n",
        "                'level','location','sessionId','song','userId'])\n",
        "    for row in full_data_rows_list:\n",
        "        if (row[0] == ''):\n",
        "            continue\n",
        "        writer.writerow((row[0], row[2], row[3], row[4], row[5], row[6], row[7], row[8], row[12], row[13], row[16]))\n"
      ],
      "execution_count": null,
      "outputs": []
    },
    {
      "cell_type": "code",
      "metadata": {
        "editable": true,
        "id": "oFrSBfyg_ZSY",
        "outputId": "599cb277-29d3-4421-e688-47f8632bbf25"
      },
      "source": [
        "# check the number of rows in the csv file\n",
        "with open('event_datafile_new.csv', 'r', encoding = 'utf8') as f:\n",
        "    print(sum(1 for line in f))"
      ],
      "execution_count": null,
      "outputs": [
        {
          "output_type": "stream",
          "text": [
            "6821\n"
          ],
          "name": "stdout"
        }
      ]
    },
    {
      "cell_type": "markdown",
      "metadata": {
        "editable": true,
        "id": "2_mVlVmk_ZSY"
      },
      "source": [
        "\n",
        "- artist \n",
        "- firstName of user\n",
        "- gender of user\n",
        "- item number in session\n",
        "- last name of user\n",
        "- length of the song\n",
        "- level (paid or free song)\n",
        "- location of the user\n",
        "- sessionId\n",
        "- song title\n",
        "- userId\n",
        "\n",
        "The image below is a screenshot of what the denormalized data should appear like in the <font color=red>**event_datafile_new.csv**</font> after the code above is run:<br>\n",
        "\n",
        "<img src=\"images/image_event_datafile_new.jpg\">"
      ]
    },
    {
      "cell_type": "markdown",
      "metadata": {
        "editable": true,
        "id": "F-gZLwn2_ZSa"
      },
      "source": [
        "## Begin writing your Apache Cassandra code in the cells below"
      ]
    },
    {
      "cell_type": "markdown",
      "metadata": {
        "editable": true,
        "id": "5-FkZqpR_ZSa"
      },
      "source": [
        "#### Creating a Cluster"
      ]
    },
    {
      "cell_type": "code",
      "metadata": {
        "editable": true,
        "id": "QANeSSWr_ZSb"
      },
      "source": [
        "# This should make a connection to a Cassandra instance your local machine \n",
        "# (127.0.0.1)\n",
        "\n",
        "from cassandra.cluster import Cluster\n",
        "cluster = Cluster()\n",
        "\n",
        "# To establish connection and begin executing queries, need a session\n",
        "session = cluster.connect()"
      ],
      "execution_count": null,
      "outputs": []
    },
    {
      "cell_type": "markdown",
      "metadata": {
        "editable": true,
        "id": "VvcTACnS_ZSb"
      },
      "source": [
        "#### Create Keyspace"
      ]
    },
    {
      "cell_type": "code",
      "metadata": {
        "editable": true,
        "id": "h8YSow4b_ZSd"
      },
      "source": [
        "# Creating a Keyspace \n",
        "try:\n",
        "    session.execute(\"\"\"\n",
        "    CREATE KEYSPACE IF NOT EXISTS cassandra_etl\n",
        "    WITH REPLICATION = \n",
        "    {'class': 'SimpleStrategy', 'replication_factor': 1}\n",
        "    \"\"\")\n",
        "except Exception as e:\n",
        "    print(e)"
      ],
      "execution_count": null,
      "outputs": []
    },
    {
      "cell_type": "markdown",
      "metadata": {
        "editable": true,
        "id": "CGCzgagP_ZSd"
      },
      "source": [
        "#### Set Keyspace"
      ]
    },
    {
      "cell_type": "code",
      "metadata": {
        "editable": true,
        "id": "03VRP2ew_ZSe"
      },
      "source": [
        "# Setting KEYSPACE to the keyspace specified above\n",
        "try:\n",
        "    session.set_keyspace('cassandra_etl')\n",
        "except Exception as e:\n",
        "    print(e)"
      ],
      "execution_count": null,
      "outputs": []
    },
    {
      "cell_type": "markdown",
      "metadata": {
        "editable": true,
        "id": "vddB3LCA_ZSe"
      },
      "source": [
        "## Query 1: Giving the artist, song title and song length that was heard in sessionId 338 and itemInSession were 4\n",
        "\n",
        "### Description\n",
        "#### This query creates a table 'song_details' with specific columns from the data such as sessionId, itemInSession, artist, song_title, and song_length while keeping sessionId and itemSession as Primary keys.\n",
        "\n",
        "#### Moreover after table is created, we use the SELECT statement to fetch artist, song title, and length columns before applying the WHERE clause on sessionId and itemInSession."
      ]
    },
    {
      "cell_type": "code",
      "metadata": {
        "editable": true,
        "id": "MiPcBRUs_ZSf",
        "outputId": "464a7abd-2252-4bfd-a983-65bcfb468a2c"
      },
      "source": [
        "## Query 1: Give the artist, song title and song's length in the music app history that was heard during \\\n",
        "## sessionId = 338, and itemInSession = 4\n",
        "\n",
        "query_1 = \"CREATE TABLE IF NOT EXISTS song_details (sessionId text, itemInSession text, artist text, song_title text, song_length text, PRIMARY KEY(sessionId, itemInSession))\"\n",
        "session.execute(query_1)"
      ],
      "execution_count": null,
      "outputs": [
        {
          "output_type": "execute_result",
          "data": {
            "text/plain": [
              "<cassandra.cluster.ResultSet at 0x7fac2536c908>"
            ]
          },
          "metadata": {
            "tags": []
          },
          "execution_count": 78
        }
      ]
    },
    {
      "cell_type": "code",
      "metadata": {
        "editable": true,
        "id": "U6KcjX3z_ZSg"
      },
      "source": [
        "file = 'event_datafile_new.csv'\n",
        "\n",
        "with open(file, encoding = 'utf8') as f:\n",
        "    csvreader = csv.reader(f)\n",
        "    next(csvreader) # skip header\n",
        "    for line in csvreader:\n",
        "        ## Assigning the INSERT statements into the `query` variable\n",
        "        query = \"INSERT INTO song_details (sessionID, itemInSession, artist, song_title, song_length)\"\n",
        "        query = query + \"VALUES(%s, %s, %s, %s, %s)\"\n",
        "        ## Assigning which column element should be assigned for each column in the INSERT statement.\n",
        "        session.execute(query, (line[8], line[3], line[0], line[-2], line[5]))"
      ],
      "execution_count": null,
      "outputs": []
    },
    {
      "cell_type": "code",
      "metadata": {
        "editable": true,
        "scrolled": true,
        "id": "Sb_OE8Bp_ZSh",
        "outputId": "e7508274-5e0a-465d-f29b-2ea358d91de6"
      },
      "source": [
        "## Adding in the SELECT statement to verify the data was entered into the table\n",
        "x = session.execute(\"SELECT artist, song_title FROM song_details WHERE sessionId = '338'\")\n",
        "for i in x:\n",
        "    print(i.artist)"
      ],
      "execution_count": null,
      "outputs": [
        {
          "output_type": "stream",
          "text": [
            "Pixies\n",
            "The Roots / Jack Davey\n",
            "Mike And The Mechanics\n",
            "Faithless\n"
          ],
          "name": "stdout"
        }
      ]
    },
    {
      "cell_type": "code",
      "metadata": {
        "editable": true,
        "id": "0oI1IzrR_ZSh",
        "outputId": "40e595c5-61f9-473b-d054-ed729953ecc9"
      },
      "source": [
        "## QUERY 1\n",
        "q = \"SELECT artist, song_title, song_length FROM song_details WHERE sessionId = '338' and itemInSession = '4'\"\n",
        "rows = session.execute(q)\n",
        "for row in rows:\n",
        "    print(row.artist, row.song_title, row.song_length)"
      ],
      "execution_count": null,
      "outputs": [
        {
          "output_type": "stream",
          "text": [
            "Faithless Music Matters (Mark Knight Dub) 495.3073\n"
          ],
          "name": "stdout"
        }
      ]
    },
    {
      "cell_type": "markdown",
      "metadata": {
        "editable": true,
        "id": "DQjPa56E_ZSi"
      },
      "source": [
        "## Query 2: Giving only the name of artist, song (sorted by itemInSession) and user (first and last name) for userid = 10, sessionid = 182\n",
        "\n",
        "### Description\n",
        "\n",
        "#### This query is initialized by creating a table called 'song_playlist_session' with userid, sessionid, itemInSession, artist, song, first name, last name as the columns with userId, sessionId and itemSession as the primary key (clustered columns).\n",
        "\n",
        "#### Post that, we SELECT Artist, song name, first name and last name of the user followed by a WHERE clause on userid and sessionid."
      ]
    },
    {
      "cell_type": "code",
      "metadata": {
        "editable": true,
        "id": "UzjLeord_ZSj"
      },
      "source": [
        "query_2 = \"CREATE TABLE IF NOT EXISTS song_playlist_session\\\n",
        "(userid text, sessionid text, itemInSession text, artist text, song text, fname text, lname text,\\\n",
        "            PRIMARY KEY((userId, sessionId), itemInSession))\"\n",
        "try:\n",
        "    session.execute(query_2)\n",
        "except Exception as e:\n",
        "    print(e)"
      ],
      "execution_count": null,
      "outputs": []
    },
    {
      "cell_type": "code",
      "metadata": {
        "editable": true,
        "id": "Ylpr72tP_ZSk"
      },
      "source": [
        "file = 'event_datafile_new.csv'\n",
        "\n",
        "with open(file, encoding = 'utf8') as f:\n",
        "    csvreader = csv.reader(f)\n",
        "    next(csvreader) # skip header\n",
        "    \n",
        "    for line in csvreader:    \n",
        "        query = \"INSERT INTO song_playlist_session (userid, sessionid, itemInSession, artist, song, fname, lname)\"\n",
        "        query = query + \"VALUES(%s, %s, %s, %s, %s, %s, %s)\"\n",
        "        \n",
        "        session.execute(query, (line[-1], line[8], line[3], line[0], line[-2], line[1], line[4]))"
      ],
      "execution_count": null,
      "outputs": []
    },
    {
      "cell_type": "code",
      "metadata": {
        "editable": true,
        "id": "YJUlIQVY_ZSl",
        "outputId": "17b6ffaa-facd-4720-abe7-caf152d3cd55"
      },
      "source": [
        "q2 = \"SELECT artist, song, fname, lname FROM song_playlist_session WHERE userid = '10' AND sessionid = '182'\"\n",
        "rows = session.execute(q2)\n",
        "for row in rows:\n",
        "    print(row.artist, row.song, row.fname, row.lname)"
      ],
      "execution_count": null,
      "outputs": [
        {
          "output_type": "stream",
          "text": [
            "Down To The Bone Keep On Keepin' On Sylvie Cruz\n",
            "Three Drives Greece 2000 Sylvie Cruz\n",
            "Sebastien Tellier Kilometer Sylvie Cruz\n",
            "Lonnie Gordon Catch You Baby (Steve Pitron & Max Sanna Radio Edit) Sylvie Cruz\n"
          ],
          "name": "stdout"
        }
      ]
    },
    {
      "cell_type": "markdown",
      "metadata": {
        "editable": true,
        "id": "01su3G9y_ZSm"
      },
      "source": [
        "## Query 3: Giving the first and last name of users who listened to 'All Hands Against His Own' song\n",
        "\n",
        "### Description\n",
        "\n",
        "#### In this query, we CREATE a new table calledf user_to_song with song, userid, first name and last name as the columns while the primary key comprises of song and userid.\n",
        "\n",
        "#### After this, we SELECT first name and last name of the user which is supported by the song name by WHERE statement."
      ]
    },
    {
      "cell_type": "code",
      "metadata": {
        "editable": true,
        "id": "CXqbiao1_ZSm",
        "outputId": "aa5d37b8-b2fe-4e4a-828f-10ac57942264"
      },
      "source": [
        "q = \"CREATE TABLE IF NOT EXISTS user_to_song (song text, userid text, fname text, lname text, PRIMARY KEY (song, userid))\"\n",
        "session.execute(q)"
      ],
      "execution_count": null,
      "outputs": [
        {
          "output_type": "execute_result",
          "data": {
            "text/plain": [
              "<cassandra.cluster.ResultSet at 0x7fac2069e9e8>"
            ]
          },
          "metadata": {
            "tags": []
          },
          "execution_count": 64
        }
      ]
    },
    {
      "cell_type": "code",
      "metadata": {
        "editable": true,
        "id": "wuqBfMGv_ZSn"
      },
      "source": [
        "file = 'event_datafile_new.csv'\n",
        "\n",
        "with open(file, encoding = 'utf8') as f:\n",
        "    csvreader = csv.reader(f)\n",
        "    next(csvreader) # skip header\n",
        "    \n",
        "    for line in csvreader:    \n",
        "        query = \"INSERT INTO user_to_song (song, userid, fname, lname)\"\n",
        "        query = query + \"VALUES(%s, %s, %s, %s)\"\n",
        "        \n",
        "        session.execute(query, (line[-2], line[-1], line[1], line[4]))"
      ],
      "execution_count": null,
      "outputs": []
    },
    {
      "cell_type": "code",
      "metadata": {
        "editable": true,
        "id": "XrBE2tLH_ZSn",
        "outputId": "177a3fed-8912-43c0-a772-e7373e7b39c0"
      },
      "source": [
        "## QUERY 3\n",
        "q3 = \"SELECT fname, lname FROM user_to_song WHERE song = 'All Hands Against His Own'\"\n",
        "s = session.execute(q3)\n",
        "for i in s:\n",
        "    print(i.fname, i.lname)"
      ],
      "execution_count": null,
      "outputs": [
        {
          "output_type": "stream",
          "text": [
            "Jacqueline Lynch\n",
            "Tegan Levine\n",
            "Sara Johnson\n"
          ],
          "name": "stdout"
        }
      ]
    },
    {
      "cell_type": "markdown",
      "metadata": {
        "editable": true,
        "id": "KerXe9ge_ZSo"
      },
      "source": [
        "### Drop the tables before closing out the sessions"
      ]
    },
    {
      "cell_type": "code",
      "metadata": {
        "editable": true,
        "id": "4KStkfGk_ZSo",
        "outputId": "e4479edf-2d03-4b5a-e2ec-f3817712f668"
      },
      "source": [
        "q1 = \"DROP TABLE song_details\"\n",
        "q2 = \"DROP TABLE song_playlist_session\"\n",
        "q3 = \"DROP TABLE user_to_song\"\n",
        "\n",
        "session.execute(q1)\n",
        "session.execute(q2)\n",
        "session.execute(q3)"
      ],
      "execution_count": null,
      "outputs": [
        {
          "output_type": "error",
          "ename": "InvalidRequest",
          "evalue": "Error from server: code=2200 [Invalid query] message=\"unconfigured table song_playlist_session\"",
          "traceback": [
            "\u001b[0;31m---------------------------------------------------------------------------\u001b[0m",
            "\u001b[0;31mInvalidRequest\u001b[0m                            Traceback (most recent call last)",
            "\u001b[0;32m<ipython-input-85-13dfdf928e80>\u001b[0m in \u001b[0;36m<module>\u001b[0;34m()\u001b[0m\n\u001b[1;32m      4\u001b[0m \u001b[0;34m\u001b[0m\u001b[0m\n\u001b[1;32m      5\u001b[0m \u001b[0msession\u001b[0m\u001b[0;34m.\u001b[0m\u001b[0mexecute\u001b[0m\u001b[0;34m(\u001b[0m\u001b[0mq1\u001b[0m\u001b[0;34m)\u001b[0m\u001b[0;34m\u001b[0m\u001b[0m\n\u001b[0;32m----> 6\u001b[0;31m \u001b[0msession\u001b[0m\u001b[0;34m.\u001b[0m\u001b[0mexecute\u001b[0m\u001b[0;34m(\u001b[0m\u001b[0mq2\u001b[0m\u001b[0;34m)\u001b[0m\u001b[0;34m\u001b[0m\u001b[0m\n\u001b[0m\u001b[1;32m      7\u001b[0m \u001b[0msession\u001b[0m\u001b[0;34m.\u001b[0m\u001b[0mexecute\u001b[0m\u001b[0;34m(\u001b[0m\u001b[0mq3\u001b[0m\u001b[0;34m)\u001b[0m\u001b[0;34m\u001b[0m\u001b[0m\n",
            "\u001b[0;32m/opt/conda/lib/python3.6/site-packages/cassandra/cluster.cpython-36m-x86_64-linux-gnu.so\u001b[0m in \u001b[0;36mcassandra.cluster.Session.execute (cassandra/cluster.c:38536)\u001b[0;34m()\u001b[0m\n",
            "\u001b[0;32m/opt/conda/lib/python3.6/site-packages/cassandra/cluster.cpython-36m-x86_64-linux-gnu.so\u001b[0m in \u001b[0;36mcassandra.cluster.ResponseFuture.result (cassandra/cluster.c:80834)\u001b[0;34m()\u001b[0m\n",
            "\u001b[0;31mInvalidRequest\u001b[0m: Error from server: code=2200 [Invalid query] message=\"unconfigured table song_playlist_session\""
          ]
        }
      ]
    },
    {
      "cell_type": "markdown",
      "metadata": {
        "editable": true,
        "id": "NwaszSmF_ZSp"
      },
      "source": [
        "### Close the session and cluster connection¶"
      ]
    },
    {
      "cell_type": "code",
      "metadata": {
        "editable": true,
        "id": "XzpU_LN8_ZSp"
      },
      "source": [
        "session.shutdown()\n",
        "cluster.shutdown()"
      ],
      "execution_count": null,
      "outputs": []
    },
    {
      "cell_type": "code",
      "metadata": {
        "editable": true,
        "id": "64avvGRp_ZSp"
      },
      "source": [
        ""
      ],
      "execution_count": null,
      "outputs": []
    },
    {
      "cell_type": "code",
      "metadata": {
        "editable": true,
        "id": "zeViJzmd_ZSp"
      },
      "source": [
        ""
      ],
      "execution_count": null,
      "outputs": []
    }
  ]
}